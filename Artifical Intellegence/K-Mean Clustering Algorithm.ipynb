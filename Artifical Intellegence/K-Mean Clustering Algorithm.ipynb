{
 "cells": [
  {
   "cell_type": "code",
   "execution_count": 50,
   "id": "a09ef24a",
   "metadata": {},
   "outputs": [],
   "source": [
    "import pandas as pd\n",
    "import numpy as np\n",
    "import random"
   ]
  },
  {
   "cell_type": "code",
   "execution_count": 51,
   "id": "22bc39eb",
   "metadata": {},
   "outputs": [],
   "source": [
    "df = pd.read_csv(\"fruit_data_with_colors.txt\", delimiter = '\\t')"
   ]
  },
  {
   "cell_type": "code",
   "execution_count": 52,
   "id": "3aa26273",
   "metadata": {},
   "outputs": [
    {
     "data": {
      "text/html": [
       "<div>\n",
       "<style scoped>\n",
       "    .dataframe tbody tr th:only-of-type {\n",
       "        vertical-align: middle;\n",
       "    }\n",
       "\n",
       "    .dataframe tbody tr th {\n",
       "        vertical-align: top;\n",
       "    }\n",
       "\n",
       "    .dataframe thead th {\n",
       "        text-align: right;\n",
       "    }\n",
       "</style>\n",
       "<table border=\"1\" class=\"dataframe\">\n",
       "  <thead>\n",
       "    <tr style=\"text-align: right;\">\n",
       "      <th></th>\n",
       "      <th>fruit_label</th>\n",
       "      <th>fruit_name</th>\n",
       "      <th>fruit_subtype</th>\n",
       "      <th>mass</th>\n",
       "      <th>width</th>\n",
       "      <th>height</th>\n",
       "      <th>color_score</th>\n",
       "    </tr>\n",
       "  </thead>\n",
       "  <tbody>\n",
       "    <tr>\n",
       "      <th>0</th>\n",
       "      <td>1</td>\n",
       "      <td>apple</td>\n",
       "      <td>granny_smith</td>\n",
       "      <td>192</td>\n",
       "      <td>8.4</td>\n",
       "      <td>7.3</td>\n",
       "      <td>0.55</td>\n",
       "    </tr>\n",
       "    <tr>\n",
       "      <th>1</th>\n",
       "      <td>1</td>\n",
       "      <td>apple</td>\n",
       "      <td>granny_smith</td>\n",
       "      <td>180</td>\n",
       "      <td>8.0</td>\n",
       "      <td>6.8</td>\n",
       "      <td>0.59</td>\n",
       "    </tr>\n",
       "    <tr>\n",
       "      <th>2</th>\n",
       "      <td>1</td>\n",
       "      <td>apple</td>\n",
       "      <td>granny_smith</td>\n",
       "      <td>176</td>\n",
       "      <td>7.4</td>\n",
       "      <td>7.2</td>\n",
       "      <td>0.60</td>\n",
       "    </tr>\n",
       "    <tr>\n",
       "      <th>3</th>\n",
       "      <td>2</td>\n",
       "      <td>mandarin</td>\n",
       "      <td>mandarin</td>\n",
       "      <td>86</td>\n",
       "      <td>6.2</td>\n",
       "      <td>4.7</td>\n",
       "      <td>0.80</td>\n",
       "    </tr>\n",
       "    <tr>\n",
       "      <th>4</th>\n",
       "      <td>2</td>\n",
       "      <td>mandarin</td>\n",
       "      <td>mandarin</td>\n",
       "      <td>84</td>\n",
       "      <td>6.0</td>\n",
       "      <td>4.6</td>\n",
       "      <td>0.79</td>\n",
       "    </tr>\n",
       "  </tbody>\n",
       "</table>\n",
       "</div>"
      ],
      "text/plain": [
       "   fruit_label fruit_name fruit_subtype  mass  width  height  color_score\n",
       "0            1      apple  granny_smith   192    8.4     7.3         0.55\n",
       "1            1      apple  granny_smith   180    8.0     6.8         0.59\n",
       "2            1      apple  granny_smith   176    7.4     7.2         0.60\n",
       "3            2   mandarin      mandarin    86    6.2     4.7         0.80\n",
       "4            2   mandarin      mandarin    84    6.0     4.6         0.79"
      ]
     },
     "execution_count": 52,
     "metadata": {},
     "output_type": "execute_result"
    }
   ],
   "source": [
    "df.head()"
   ]
  },
  {
   "cell_type": "code",
   "execution_count": 53,
   "id": "0191f854",
   "metadata": {},
   "outputs": [],
   "source": [
    "df = df.drop(columns = ['fruit_label','fruit_name','fruit_subtype'], axis = 1)"
   ]
  },
  {
   "cell_type": "code",
   "execution_count": 54,
   "id": "ab29444b",
   "metadata": {},
   "outputs": [
    {
     "data": {
      "text/html": [
       "<div>\n",
       "<style scoped>\n",
       "    .dataframe tbody tr th:only-of-type {\n",
       "        vertical-align: middle;\n",
       "    }\n",
       "\n",
       "    .dataframe tbody tr th {\n",
       "        vertical-align: top;\n",
       "    }\n",
       "\n",
       "    .dataframe thead th {\n",
       "        text-align: right;\n",
       "    }\n",
       "</style>\n",
       "<table border=\"1\" class=\"dataframe\">\n",
       "  <thead>\n",
       "    <tr style=\"text-align: right;\">\n",
       "      <th></th>\n",
       "      <th>mass</th>\n",
       "      <th>width</th>\n",
       "      <th>height</th>\n",
       "      <th>color_score</th>\n",
       "    </tr>\n",
       "  </thead>\n",
       "  <tbody>\n",
       "    <tr>\n",
       "      <th>0</th>\n",
       "      <td>192</td>\n",
       "      <td>8.4</td>\n",
       "      <td>7.3</td>\n",
       "      <td>0.55</td>\n",
       "    </tr>\n",
       "    <tr>\n",
       "      <th>1</th>\n",
       "      <td>180</td>\n",
       "      <td>8.0</td>\n",
       "      <td>6.8</td>\n",
       "      <td>0.59</td>\n",
       "    </tr>\n",
       "    <tr>\n",
       "      <th>2</th>\n",
       "      <td>176</td>\n",
       "      <td>7.4</td>\n",
       "      <td>7.2</td>\n",
       "      <td>0.60</td>\n",
       "    </tr>\n",
       "    <tr>\n",
       "      <th>3</th>\n",
       "      <td>86</td>\n",
       "      <td>6.2</td>\n",
       "      <td>4.7</td>\n",
       "      <td>0.80</td>\n",
       "    </tr>\n",
       "    <tr>\n",
       "      <th>4</th>\n",
       "      <td>84</td>\n",
       "      <td>6.0</td>\n",
       "      <td>4.6</td>\n",
       "      <td>0.79</td>\n",
       "    </tr>\n",
       "  </tbody>\n",
       "</table>\n",
       "</div>"
      ],
      "text/plain": [
       "   mass  width  height  color_score\n",
       "0   192    8.4     7.3         0.55\n",
       "1   180    8.0     6.8         0.59\n",
       "2   176    7.4     7.2         0.60\n",
       "3    86    6.2     4.7         0.80\n",
       "4    84    6.0     4.6         0.79"
      ]
     },
     "execution_count": 54,
     "metadata": {},
     "output_type": "execute_result"
    }
   ],
   "source": [
    "df.head()"
   ]
  },
  {
   "cell_type": "code",
   "execution_count": 55,
   "id": "33223c06",
   "metadata": {},
   "outputs": [],
   "source": [
    "x = np.array(df)\n",
    "random.shuffle(x)\n",
    "k = 4    "
   ]
  },
  {
   "cell_type": "code",
   "execution_count": 56,
   "id": "65d610ce",
   "metadata": {},
   "outputs": [
    {
     "data": {
      "text/plain": [
       "array([ 4, 20, 45, 52])"
      ]
     },
     "execution_count": 56,
     "metadata": {},
     "output_type": "execute_result"
    }
   ],
   "source": [
    "centroids_index = np.random.randint(0, 58,( 4,))\n",
    "centroids_index"
   ]
  },
  {
   "cell_type": "code",
   "execution_count": 57,
   "id": "f7e53e98",
   "metadata": {},
   "outputs": [
    {
     "data": {
      "text/plain": [
       "array([[ 86.  ,   6.2 ,   4.7 ,   0.8 ],\n",
       "       [178.  ,   7.1 ,   7.8 ,   0.92],\n",
       "       [166.  ,   6.9 ,   7.3 ,   0.93],\n",
       "       [172.  ,   7.1 ,   7.6 ,   0.92]])"
      ]
     },
     "execution_count": 57,
     "metadata": {},
     "output_type": "execute_result"
    }
   ],
   "source": [
    "x[centroids_index]"
   ]
  },
  {
   "cell_type": "code",
   "execution_count": 58,
   "id": "04c1d2d0",
   "metadata": {},
   "outputs": [],
   "source": [
    "ctds = x[centroids_index]"
   ]
  },
  {
   "cell_type": "code",
   "execution_count": 59,
   "id": "fa2a5777",
   "metadata": {},
   "outputs": [
    {
     "data": {
      "text/plain": [
       "array([[ 86.  ,   6.2 ,   4.7 ,   0.8 ],\n",
       "       [178.  ,   7.1 ,   7.8 ,   0.92],\n",
       "       [166.  ,   6.9 ,   7.3 ,   0.93],\n",
       "       [172.  ,   7.1 ,   7.6 ,   0.92]])"
      ]
     },
     "execution_count": 59,
     "metadata": {},
     "output_type": "execute_result"
    }
   ],
   "source": [
    "ctds"
   ]
  },
  {
   "cell_type": "code",
   "execution_count": 60,
   "id": "14197616",
   "metadata": {},
   "outputs": [],
   "source": [
    "x= np.delete(x,centroids_index, axis = 0)"
   ]
  },
  {
   "cell_type": "code",
   "execution_count": 61,
   "id": "b7340c94",
   "metadata": {},
   "outputs": [],
   "source": [
    "clusters = [[], [], [], []]\n",
    "clusters[0].append(ctds[0])\n",
    "clusters[1].append(ctds[1])\n",
    "clusters[2].append(ctds[2])\n",
    "clusters[3].append(ctds[3])"
   ]
  },
  {
   "cell_type": "code",
   "execution_count": 62,
   "id": "b0b0b883",
   "metadata": {},
   "outputs": [],
   "source": [
    "def euclidean_distance(centroid, x):\n",
    "    difference = np.array(x) - np.array(centroid)\n",
    "    sqrd_diff = np.square(difference)\n",
    "    sum_sqrd_diff = np.sum(sqrd_diff, axis = 1)\n",
    "    distance = np.sqrt(sum_sqrd_diff)\n",
    "    \n",
    "    return distance"
   ]
  },
  {
   "cell_type": "code",
   "execution_count": 63,
   "id": "bd5f3949",
   "metadata": {},
   "outputs": [
    {
     "data": {
      "text/plain": [
       "[[array([86. ,  6.2,  4.7,  0.8])],\n",
       " [array([178.  ,   7.1 ,   7.8 ,   0.92])],\n",
       " [array([166.  ,   6.9 ,   7.3 ,   0.93])],\n",
       " [array([172.  ,   7.1 ,   7.6 ,   0.92])]]"
      ]
     },
     "execution_count": 63,
     "metadata": {},
     "output_type": "execute_result"
    }
   ],
   "source": [
    "clusters"
   ]
  },
  {
   "cell_type": "code",
   "execution_count": 64,
   "id": "37a55fac",
   "metadata": {},
   "outputs": [
    {
     "data": {
      "text/plain": [
       "1"
      ]
     },
     "execution_count": 64,
     "metadata": {},
     "output_type": "execute_result"
    }
   ],
   "source": [
    "len(clusters[0])"
   ]
  },
  {
   "cell_type": "code",
   "execution_count": 65,
   "id": "bfa59f98",
   "metadata": {},
   "outputs": [
    {
     "data": {
      "text/plain": [
       "1"
      ]
     },
     "execution_count": 65,
     "metadata": {},
     "output_type": "execute_result"
    }
   ],
   "source": [
    "len(clusters[1])"
   ]
  },
  {
   "cell_type": "code",
   "execution_count": 66,
   "id": "ec12a76f",
   "metadata": {},
   "outputs": [
    {
     "data": {
      "text/plain": [
       "1"
      ]
     },
     "execution_count": 66,
     "metadata": {},
     "output_type": "execute_result"
    }
   ],
   "source": [
    "len(clusters[2])"
   ]
  },
  {
   "cell_type": "code",
   "execution_count": 67,
   "id": "4f22da03",
   "metadata": {},
   "outputs": [
    {
     "data": {
      "text/plain": [
       "1"
      ]
     },
     "execution_count": 67,
     "metadata": {},
     "output_type": "execute_result"
    }
   ],
   "source": [
    "len(clusters[3])"
   ]
  },
  {
   "cell_type": "code",
   "execution_count": 68,
   "id": "58f2b1c2",
   "metadata": {},
   "outputs": [],
   "source": [
    "c1 = euclidean_distance(ctds[0], x)\n",
    "c2 = euclidean_distance(ctds[1], x)\n",
    "c3 = euclidean_distance(ctds[2], x)\n",
    "c4 = euclidean_distance(ctds[3], x)"
   ]
  },
  {
   "cell_type": "code",
   "execution_count": 69,
   "id": "faa47dd6",
   "metadata": {},
   "outputs": [
    {
     "data": {
      "text/plain": [
       "array([1.06054998e+02, 9.40409172e+01, 9.00429342e+01, 0.00000000e+00,\n",
       "       1.06054998e+02, 0.00000000e+00, 1.00324523e+01, 9.20566912e+01,\n",
       "       1.00324523e+01, 6.02668234e+00, 8.60391661e+01, 9.20566912e+01,\n",
       "       6.02080559e+00, 8.60536716e+01, 1.00324523e+01, 6.80470896e+01,\n",
       "       6.02668234e+00, 1.06054998e+02, 9.20566912e+01, 7.60490033e+01,\n",
       "       8.60536716e+01, 0.00000000e+00, 2.01248602e+00, 9.14005370e+02,\n",
       "       8.40726257e+01, 6.80470896e+01, 6.02080559e+00, 1.06054998e+02,\n",
       "       9.40409172e+01, 8.00454052e+01, 9.20566912e+01, 7.20600451e+01,\n",
       "       1.00324523e+01, 1.00324523e+01, 2.01248602e+00, 8.60536716e+01,\n",
       "       7.20600451e+01, 6.02668234e+00, 2.99140001e+04, 1.06054998e+02,\n",
       "       7.60490033e+01, 7.60505917e+01, 7.80403101e+01, 1.24054224e+02,\n",
       "       7.00623408e+01, 1.08149757e+02, 2.01248602e+00, 6.60661192e+01,\n",
       "       2.99140001e+04, 7.20600451e+01, 1.24054224e+02, 6.02668234e+00,\n",
       "       8.00454052e+01, 7.40643882e+01, 1.00106226e+02])"
      ]
     },
     "execution_count": 69,
     "metadata": {},
     "output_type": "execute_result"
    }
   ],
   "source": [
    "c1"
   ]
  },
  {
   "cell_type": "code",
   "execution_count": 70,
   "id": "d125bcc7",
   "metadata": {
    "scrolled": true
   },
   "outputs": [
    {
     "data": {
      "text/plain": [
       "array([86. ,  6.2,  4.7,  0.8])"
      ]
     },
     "execution_count": 70,
     "metadata": {},
     "output_type": "execute_result"
    }
   ],
   "source": [
    "ctds[0]"
   ]
  },
  {
   "cell_type": "code",
   "execution_count": 71,
   "id": "289292b7",
   "metadata": {},
   "outputs": [
    {
     "data": {
      "text/plain": [
       "55"
      ]
     },
     "execution_count": 71,
     "metadata": {},
     "output_type": "execute_result"
    }
   ],
   "source": [
    "len(x)"
   ]
  },
  {
   "cell_type": "code",
   "execution_count": 72,
   "id": "1fea375f",
   "metadata": {},
   "outputs": [
    {
     "data": {
      "text/plain": [
       "55"
      ]
     },
     "execution_count": 72,
     "metadata": {},
     "output_type": "execute_result"
    }
   ],
   "source": [
    "len(c1)"
   ]
  },
  {
   "cell_type": "code",
   "execution_count": 73,
   "id": "0cf55bd6",
   "metadata": {},
   "outputs": [],
   "source": [
    "for i in x:\n",
    "    id = np.argmin(euclidean_distance(i, ctds))\n",
    "    clusters[id].append(i)"
   ]
  },
  {
   "cell_type": "code",
   "execution_count": 74,
   "id": "2870e054",
   "metadata": {},
   "outputs": [
    {
     "data": {
      "text/plain": [
       "[[array([86. ,  6.2,  4.7,  0.8]),\n",
       "  array([86. ,  6.2,  4.7,  0.8]),\n",
       "  array([86. ,  6.2,  4.7,  0.8]),\n",
       "  array([76.  ,  5.8 ,  4.  ,  0.81]),\n",
       "  array([76.  ,  5.8 ,  4.  ,  0.81]),\n",
       "  array([80.  ,  5.8 ,  4.3 ,  0.77]),\n",
       "  array([80.  ,  5.9 ,  4.3 ,  0.81]),\n",
       "  array([76.  ,  5.8 ,  4.  ,  0.81]),\n",
       "  array([80.  ,  5.8 ,  4.3 ,  0.77]),\n",
       "  array([86. ,  6.2,  4.7,  0.8]),\n",
       "  array([84.  ,  6.  ,  4.6 ,  0.79]),\n",
       "  array([80.  ,  5.9 ,  4.3 ,  0.81]),\n",
       "  array([76.  ,  5.8 ,  4.  ,  0.81]),\n",
       "  array([76.  ,  5.8 ,  4.  ,  0.81]),\n",
       "  array([84.  ,  6.  ,  4.6 ,  0.79]),\n",
       "  array([80.  ,  5.8 ,  4.3 ,  0.77]),\n",
       "  array([84.  ,  6.  ,  4.6 ,  0.79]),\n",
       "  array([80.  ,  5.8 ,  4.3 ,  0.77])],\n",
       " [array([178.  ,   7.1 ,   7.8 ,   0.92]),\n",
       "  array([192.  ,   8.4 ,   7.3 ,   0.55]),\n",
       "  array([180.  ,   8.  ,   6.8 ,   0.59]),\n",
       "  array([176. ,   7.4,   7.2,   0.6]),\n",
       "  array([192.  ,   8.4 ,   7.3 ,   0.55]),\n",
       "  array([178.  ,   7.1 ,   7.8 ,   0.92]),\n",
       "  array([178.  ,   7.1 ,   7.8 ,   0.92]),\n",
       "  array([192.  ,   8.4 ,   7.3 ,   0.55]),\n",
       "  array([178.  ,   7.1 ,   7.8 ,   0.92]),\n",
       "  array([1.0e+03, 7.6e+00, 7.5e+00, 6.7e-01]),\n",
       "  array([192.  ,   8.4 ,   7.3 ,   0.55]),\n",
       "  array([180.  ,   8.  ,   6.8 ,   0.59]),\n",
       "  array([178.  ,   7.1 ,   7.8 ,   0.92]),\n",
       "  array([3.0e+04, 7.1e+00, 7.5e+00, 7.8e-01]),\n",
       "  array([192.  ,   8.4 ,   7.3 ,   0.55]),\n",
       "  array([210.  ,   7.8 ,   8.  ,   0.82]),\n",
       "  array([194. ,   7.2,  10.3,   0.7]),\n",
       "  array([3.0e+04, 7.1e+00, 7.5e+00, 7.8e-01]),\n",
       "  array([210.  ,   7.8 ,   8.  ,   0.82]),\n",
       "  array([186.  ,   7.2 ,   9.2 ,   0.72])],\n",
       " [array([166.  ,   6.9 ,   7.3 ,   0.93]),\n",
       "  array([154.  ,   7.  ,   7.1 ,   0.88]),\n",
       "  array([162.  ,   7.5 ,   7.1 ,   0.83]),\n",
       "  array([154.  ,   7.  ,   7.1 ,   0.88]),\n",
       "  array([166.  ,   6.9 ,   7.3 ,   0.93]),\n",
       "  array([158.  ,   7.1 ,   7.5 ,   0.79]),\n",
       "  array([158.  ,   7.1 ,   7.5 ,   0.79]),\n",
       "  array([162.  ,   7.5 ,   7.1 ,   0.83]),\n",
       "  array([162.  ,   7.4 ,   7.2 ,   0.85]),\n",
       "  array([164. ,   7.2,   7. ,   0.8]),\n",
       "  array([156.  ,   7.4 ,   7.4 ,   0.84]),\n",
       "  array([152.  ,   7.6 ,   7.3 ,   0.69]),\n",
       "  array([158.  ,   7.1 ,   7.5 ,   0.79]),\n",
       "  array([166.  ,   6.9 ,   7.3 ,   0.93]),\n",
       "  array([160.  ,   7.5 ,   7.5 ,   0.86])],\n",
       " [array([172.  ,   7.1 ,   7.6 ,   0.92]),\n",
       "  array([172.  ,   7.4 ,   7.  ,   0.89]),\n",
       "  array([172.  ,   7.1 ,   7.6 ,   0.92]),\n",
       "  array([172.  ,   7.1 ,   7.6 ,   0.92]),\n",
       "  array([170.  ,   7.6 ,   7.9 ,   0.88]),\n",
       "  array([172.  ,   7.1 ,   7.6 ,   0.92])]]"
      ]
     },
     "execution_count": 74,
     "metadata": {},
     "output_type": "execute_result"
    }
   ],
   "source": [
    "clusters"
   ]
  },
  {
   "cell_type": "code",
   "execution_count": 75,
   "id": "e89996af",
   "metadata": {},
   "outputs": [],
   "source": [
    "ctds[0] = np.mean(clusters[0], axis = 0)\n",
    "ctds[1] = np.mean(clusters[1], axis = 0)\n",
    "ctds[2] = np.mean(clusters[2], axis = 0)\n",
    "ctds[3] = np.mean(clusters[3], axis = 0)"
   ]
  },
  {
   "cell_type": "code",
   "execution_count": 90,
   "id": "b3b8c525",
   "metadata": {},
   "outputs": [
    {
     "name": "stdout",
     "output_type": "stream",
     "text": [
      "Centroids of newly formed clusters do not change.\n"
     ]
    },
    {
     "data": {
      "text/plain": [
       "[[array([80.58823816,  5.91764721,  4.33529431,  0.79529412]),\n",
       "  array([86. ,  6.2,  4.7,  0.8]),\n",
       "  array([86. ,  6.2,  4.7,  0.8]),\n",
       "  array([76.  ,  5.8 ,  4.  ,  0.81]),\n",
       "  array([76.  ,  5.8 ,  4.  ,  0.81]),\n",
       "  array([80.  ,  5.8 ,  4.3 ,  0.77]),\n",
       "  array([80.  ,  5.9 ,  4.3 ,  0.81]),\n",
       "  array([76.  ,  5.8 ,  4.  ,  0.81]),\n",
       "  array([80.  ,  5.8 ,  4.3 ,  0.77]),\n",
       "  array([86. ,  6.2,  4.7,  0.8]),\n",
       "  array([84.  ,  6.  ,  4.6 ,  0.79]),\n",
       "  array([80.  ,  5.9 ,  4.3 ,  0.81]),\n",
       "  array([76.  ,  5.8 ,  4.  ,  0.81]),\n",
       "  array([76.  ,  5.8 ,  4.  ,  0.81]),\n",
       "  array([84.  ,  6.  ,  4.6 ,  0.79]),\n",
       "  array([80.  ,  5.8 ,  4.3 ,  0.77]),\n",
       "  array([84.  ,  6.  ,  4.6 ,  0.79]),\n",
       "  array([80.  ,  5.8 ,  4.3 ,  0.77])],\n",
       " [array([2.96692506e+04, 7.10660494e+00, 7.50265432e+00, 7.79271605e-01]),\n",
       "  array([3.0e+04, 7.1e+00, 7.5e+00, 7.8e-01]),\n",
       "  array([3.0e+04, 7.1e+00, 7.5e+00, 7.8e-01])],\n",
       " [array([174.22317161,   7.46556926,   7.53135128,   0.78546244]),\n",
       "  array([192.  ,   8.4 ,   7.3 ,   0.55]),\n",
       "  array([180.  ,   8.  ,   6.8 ,   0.59]),\n",
       "  array([176. ,   7.4,   7.2,   0.6]),\n",
       "  array([192.  ,   8.4 ,   7.3 ,   0.55]),\n",
       "  array([178.  ,   7.1 ,   7.8 ,   0.92]),\n",
       "  array([172.  ,   7.4 ,   7.  ,   0.89]),\n",
       "  array([178.  ,   7.1 ,   7.8 ,   0.92]),\n",
       "  array([172.  ,   7.1 ,   7.6 ,   0.92]),\n",
       "  array([154.  ,   7.  ,   7.1 ,   0.88]),\n",
       "  array([192.  ,   8.4 ,   7.3 ,   0.55]),\n",
       "  array([178.  ,   7.1 ,   7.8 ,   0.92]),\n",
       "  array([162.  ,   7.5 ,   7.1 ,   0.83]),\n",
       "  array([172.  ,   7.1 ,   7.6 ,   0.92]),\n",
       "  array([170.  ,   7.6 ,   7.9 ,   0.88]),\n",
       "  array([154.  ,   7.  ,   7.1 ,   0.88]),\n",
       "  array([192.  ,   8.4 ,   7.3 ,   0.55]),\n",
       "  array([180.  ,   8.  ,   6.8 ,   0.59]),\n",
       "  array([166.  ,   6.9 ,   7.3 ,   0.93]),\n",
       "  array([178.  ,   7.1 ,   7.8 ,   0.92]),\n",
       "  array([158.  ,   7.1 ,   7.5 ,   0.79]),\n",
       "  array([172.  ,   7.1 ,   7.6 ,   0.92]),\n",
       "  array([158.  ,   7.1 ,   7.5 ,   0.79]),\n",
       "  array([192.  ,   8.4 ,   7.3 ,   0.55]),\n",
       "  array([162.  ,   7.5 ,   7.1 ,   0.83]),\n",
       "  array([162.  ,   7.4 ,   7.2 ,   0.85]),\n",
       "  array([164. ,   7.2,   7. ,   0.8]),\n",
       "  array([210.  ,   7.8 ,   8.  ,   0.82]),\n",
       "  array([156.  ,   7.4 ,   7.4 ,   0.84]),\n",
       "  array([194. ,   7.2,  10.3,   0.7]),\n",
       "  array([152.  ,   7.6 ,   7.3 ,   0.69]),\n",
       "  array([158.  ,   7.1 ,   7.5 ,   0.79]),\n",
       "  array([210.  ,   7.8 ,   8.  ,   0.82]),\n",
       "  array([166.  ,   6.9 ,   7.3 ,   0.93]),\n",
       "  array([160.  ,   7.5 ,   7.5 ,   0.86]),\n",
       "  array([186.  ,   7.2 ,   9.2 ,   0.72])],\n",
       " [array([8.19719667e+02, 7.69873333e+00, 7.57385000e+00, 6.65738333e-01]),\n",
       "  array([1.0e+03, 7.6e+00, 7.5e+00, 6.7e-01])]]"
      ]
     },
     "execution_count": 90,
     "metadata": {},
     "output_type": "execute_result"
    }
   ],
   "source": [
    "for i in range(1):\n",
    "    prev_clusters = clusters\n",
    "    \n",
    "    prev_centroids = [ctds[0], ctds[1], ctds[2], ctds[3]]\n",
    "    c1 = euclidean_distance(ctds[0], x)\n",
    "    c2 = euclidean_distance(ctds[1], x)\n",
    "    c3 = euclidean_distance(ctds[2], x)\n",
    "    c4 = euclidean_distance(ctds[3], x)\n",
    "    \n",
    "    clusters = [[], [], [], []]\n",
    "    clusters[0].append(ctds[0])\n",
    "    clusters[1].append(ctds[1])\n",
    "    clusters[2].append(ctds[2])\n",
    "    clusters[3].append(ctds[3])\n",
    "    \n",
    "    for j in x:\n",
    "\n",
    "        id = np.argmin(euclidean_distance(j, ctds))\n",
    "        clusters[id].append(j)\n",
    "    \n",
    "    ctds[0] = np.mean(clusters[0], axis = 0)\n",
    "    ctds[1] = np.mean(clusters[1], axis = 0)\n",
    "    ctds[2] = np.mean(clusters[2], axis = 0)\n",
    "    ctds[3] = np.mean(clusters[3], axis = 0)\n",
    "    \n",
    "    new_centroids = [ctds[0], ctds[1], ctds[2], ctds[3]]\n",
    "    \n",
    "    if np.array_equiv( prev_centroids, new_centroids):\n",
    "        print(\"Centroids of newly formed clusters do not change.\")\n",
    "        break\n",
    "    \n",
    "    if np.array_equiv(prev_clusters, clusters):\n",
    "        print(\"Points remain in the same cluster.\")\n",
    "        break\n",
    "        \n",
    "    \n",
    "clusters"
   ]
  },
  {
   "cell_type": "code",
   "execution_count": 78,
   "id": "d25f4c16",
   "metadata": {},
   "outputs": [
    {
     "data": {
      "text/plain": [
       "18"
      ]
     },
     "execution_count": 78,
     "metadata": {},
     "output_type": "execute_result"
    }
   ],
   "source": [
    "len(clusters[0])"
   ]
  },
  {
   "cell_type": "code",
   "execution_count": 79,
   "id": "7ab4f821",
   "metadata": {},
   "outputs": [
    {
     "data": {
      "text/plain": [
       "3"
      ]
     },
     "execution_count": 79,
     "metadata": {},
     "output_type": "execute_result"
    }
   ],
   "source": [
    "len(clusters[1])"
   ]
  },
  {
   "cell_type": "code",
   "execution_count": 80,
   "id": "b7ca1df1",
   "metadata": {},
   "outputs": [
    {
     "data": {
      "text/plain": [
       "13"
      ]
     },
     "execution_count": 80,
     "metadata": {},
     "output_type": "execute_result"
    }
   ],
   "source": [
    "len(clusters[2])"
   ]
  },
  {
   "cell_type": "code",
   "execution_count": 81,
   "id": "e69c0f28",
   "metadata": {},
   "outputs": [
    {
     "data": {
      "text/plain": [
       "25"
      ]
     },
     "execution_count": 81,
     "metadata": {},
     "output_type": "execute_result"
    }
   ],
   "source": [
    "len(clusters[3])"
   ]
  },
  {
   "cell_type": "code",
   "execution_count": 94,
   "id": "1b72bc60",
   "metadata": {},
   "outputs": [
    {
     "data": {
      "text/plain": [
       "59"
      ]
     },
     "execution_count": 94,
     "metadata": {},
     "output_type": "execute_result"
    }
   ],
   "source": [
    "total = len(clusters[0]) + len(clusters[1]) + len(clusters[2]) + len(clusters[3])\n",
    "total"
   ]
  },
  {
   "cell_type": "code",
   "execution_count": null,
   "id": "ea1132f1",
   "metadata": {},
   "outputs": [],
   "source": []
  },
  {
   "cell_type": "code",
   "execution_count": null,
   "id": "4cc5e834",
   "metadata": {},
   "outputs": [],
   "source": []
  }
 ],
 "metadata": {
  "kernelspec": {
   "display_name": "Python 3",
   "language": "python",
   "name": "python3"
  },
  "language_info": {
   "codemirror_mode": {
    "name": "ipython",
    "version": 3
   },
   "file_extension": ".py",
   "mimetype": "text/x-python",
   "name": "python",
   "nbconvert_exporter": "python",
   "pygments_lexer": "ipython3",
   "version": "3.8.8"
  }
 },
 "nbformat": 4,
 "nbformat_minor": 5
}
