{
 "cells": [
  {
   "cell_type": "code",
   "execution_count": 5,
   "id": "883f47c3",
   "metadata": {},
   "outputs": [],
   "source": [
    "def fib1(n):\n",
    "    if n <=1:\n",
    "        return 1\n",
    "    \n",
    "    else:\n",
    "        return fib1(n-2) + fib1(n-1)"
   ]
  },
  {
   "cell_type": "code",
   "execution_count": 6,
   "id": "1b86b3a5",
   "metadata": {},
   "outputs": [],
   "source": [
    "def fib2(n):\n",
    "    a = 1\n",
    "    b = 1\n",
    "    for i in range (n):\n",
    "        a, b = b, a+b\n",
    "        return a"
   ]
  },
  {
   "cell_type": "code",
   "execution_count": 16,
   "id": "814bf9cc",
   "metadata": {},
   "outputs": [
    {
     "name": "stdout",
     "output_type": "stream",
     "text": [
      "The factorial of 7 is 5040\n"
     ]
    }
   ],
   "source": [
    "# Factorial of a number using recursion\n",
    "\n",
    "def recur_factorial(n):\n",
    "    if n == 1:\n",
    "        return n\n",
    "    else:\n",
    "        return n*recur_factorial(n-1)\n",
    "\n",
    "num = 7\n",
    "\n",
    "# check if the number is negative\n",
    "if num < 0:\n",
    "    print (\" Sorry, factorial does not exist for negative numbers\")\n",
    "elif num == 0:\n",
    "    print ( \"The factorial of 0 is 1\")\n",
    "else:\n",
    "    print ( \"The factorial of\", num, \"is\", recur_factorial(num))"
   ]
  },
  {
   "cell_type": "code",
   "execution_count": 17,
   "id": "0a1bc5ba",
   "metadata": {},
   "outputs": [
    {
     "data": {
      "text/plain": [
       "int"
      ]
     },
     "execution_count": 17,
     "metadata": {},
     "output_type": "execute_result"
    }
   ],
   "source": [
    "type (num)\n",
    "# to find type "
   ]
  },
  {
   "cell_type": "code",
   "execution_count": 19,
   "id": "db083831",
   "metadata": {},
   "outputs": [
    {
     "data": {
      "text/plain": [
       "3"
      ]
     },
     "execution_count": 19,
     "metadata": {},
     "output_type": "execute_result"
    }
   ],
   "source": [
    "int.bit_length(num)\n",
    "# To find bits of num"
   ]
  },
  {
   "cell_type": "code",
   "execution_count": null,
   "id": "3611b7ba",
   "metadata": {},
   "outputs": [],
   "source": []
  }
 ],
 "metadata": {
  "kernelspec": {
   "display_name": "Python 3 (ipykernel)",
   "language": "python",
   "name": "python3"
  },
  "language_info": {
   "codemirror_mode": {
    "name": "ipython",
    "version": 3
   },
   "file_extension": ".py",
   "mimetype": "text/x-python",
   "name": "python",
   "nbconvert_exporter": "python",
   "pygments_lexer": "ipython3",
   "version": "3.9.7"
  }
 },
 "nbformat": 4,
 "nbformat_minor": 5
}
