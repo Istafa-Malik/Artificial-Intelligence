{
 "cells": [
  {
   "cell_type": "markdown",
   "id": "eec2b207-988a-4c83-80e7-45dcec28a4ba",
   "metadata": {},
   "source": [
    "### **TASK 1**\n",
    "Use the implementation of perceptron from the last lab manual and model the truth table of XOR.\n",
    "\n",
    "![XOR](./XOR.png \"XOR\")\n"
   ]
  },
  {
   "cell_type": "code",
   "execution_count": 39,
   "id": "335d0115",
   "metadata": {},
   "outputs": [],
   "source": [
    "import pandas as pd\n",
    "import numpy as np\n",
    "from sklearn.model_selection import train_test_split\n",
    "from sklearn.metrics import log_loss\n"
   ]
  },
  {
   "cell_type": "code",
   "execution_count": 40,
   "id": "b1a88e59",
   "metadata": {},
   "outputs": [],
   "source": [
    "def sigmoid(z):\n",
    "    return 1/(1+np.exp(-z))"
   ]
  },
  {
   "cell_type": "code",
   "execution_count": 41,
   "id": "c682c0c7",
   "metadata": {},
   "outputs": [],
   "source": [
    "A = np.array((0,0,1,1))\n",
    "B = np.array((0,1,0,1))\n",
    "A_XOR_B = np.array((0,1,1,0))"
   ]
  },
  {
   "cell_type": "code",
   "execution_count": 42,
   "id": "5df5054e",
   "metadata": {},
   "outputs": [
    {
     "name": "stdout",
     "output_type": "stream",
     "text": [
      "(4,)\n"
     ]
    }
   ],
   "source": [
    "print(A.shape)"
   ]
  },
  {
   "cell_type": "code",
   "execution_count": 43,
   "id": "8fae3573",
   "metadata": {},
   "outputs": [],
   "source": [
    "X = np.array([[0,0],\n",
    "              [0,1],\n",
    "              [1,0],\n",
    "              [1,1]])"
   ]
  },
  {
   "cell_type": "code",
   "execution_count": 44,
   "id": "325abf24",
   "metadata": {},
   "outputs": [],
   "source": [
    "Y = np.array([0,1,1,0])"
   ]
  },
  {
   "cell_type": "code",
   "execution_count": 45,
   "id": "5437b563",
   "metadata": {},
   "outputs": [],
   "source": [
    "X = X.T"
   ]
  },
  {
   "cell_type": "code",
   "execution_count": 46,
   "id": "919fcec1",
   "metadata": {},
   "outputs": [
    {
     "data": {
      "text/plain": [
       "(2, 4)"
      ]
     },
     "execution_count": 46,
     "metadata": {},
     "output_type": "execute_result"
    }
   ],
   "source": [
    "X.shape"
   ]
  },
  {
   "cell_type": "code",
   "execution_count": 94,
   "id": "80aef740",
   "metadata": {},
   "outputs": [],
   "source": [
    "alpha = 0.03"
   ]
  },
  {
   "cell_type": "code",
   "execution_count": null,
   "id": "dfb7900f",
   "metadata": {},
   "outputs": [],
   "source": []
  },
  {
   "cell_type": "code",
   "execution_count": 95,
   "id": "d5c08153",
   "metadata": {},
   "outputs": [
    {
     "name": "stdout",
     "output_type": "stream",
     "text": [
      "17.269388197455342\n",
      "17.269388197455342\n",
      "17.269388197455342\n",
      "17.269388197455342\n",
      "17.269388197455342\n",
      "17.269388197455342\n",
      "17.269388197455342\n",
      "17.269388197455342\n",
      "17.269388197455342\n",
      "17.269388197455342\n",
      "17.269388197455342\n",
      "17.269388197455342\n",
      "17.269388197455342\n",
      "17.269388197455342\n",
      "17.269388197455342\n",
      "17.269388197455342\n",
      "17.269388197455342\n",
      "17.269388197455342\n",
      "17.269388197455342\n",
      "17.269388197455342\n",
      "17.269388197455342\n",
      "17.269388197455342\n",
      "17.269388197455342\n",
      "17.269388197455342\n",
      "17.269388197455342\n",
      "17.269388197455342\n",
      "17.269388197455342\n",
      "17.269388197455342\n",
      "17.269388197455342\n",
      "17.269388197455342\n",
      "17.269388197455342\n",
      "17.269388197455342\n",
      "17.269388197455342\n",
      "17.269388197455342\n",
      "17.269388197455342\n",
      "17.269388197455342\n",
      "17.269388197455342\n",
      "17.269388197455342\n",
      "17.269388197455342\n",
      "17.269388197455342\n",
      "17.269388197455342\n",
      "17.269388197455342\n",
      "17.269388197455342\n",
      "17.269388197455342\n",
      "17.269388197455342\n",
      "17.269388197455342\n",
      "17.269388197455342\n",
      "17.269388197455342\n",
      "17.269388197455342\n",
      "17.269388197455342\n",
      "17.269388197455342\n",
      "17.269388197455342\n",
      "17.269388197455342\n",
      "17.269388197455342\n",
      "17.269388197455342\n",
      "17.269388197455342\n",
      "17.269388197455342\n",
      "17.269388197455342\n",
      "17.269388197455342\n",
      "17.269388197455342\n",
      "17.269388197455342\n",
      "17.269388197455342\n",
      "17.269388197455342\n",
      "17.269388197455342\n",
      "17.269388197455342\n",
      "17.269388197455342\n",
      "17.269388197455342\n",
      "17.269388197455342\n",
      "17.269388197455342\n",
      "17.269388197455342\n",
      "17.269388197455342\n",
      "17.269388197455342\n",
      "17.269388197455342\n",
      "17.269388197455342\n",
      "17.269388197455342\n",
      "17.269388197455342\n",
      "17.269388197455342\n",
      "17.269388197455342\n",
      "17.269388197455342\n",
      "17.269388197455342\n",
      "17.269388197455342\n",
      "17.269388197455342\n",
      "17.269388197455342\n",
      "17.269388197455342\n",
      "17.269388197455342\n",
      "17.269388197455342\n",
      "17.269388197455342\n",
      "17.269388197455342\n",
      "17.269388197455342\n",
      "17.269388197455342\n",
      "17.269388197455342\n",
      "17.269388197455342\n",
      "17.269388197455342\n",
      "17.269388197455342\n",
      "17.269388197455342\n",
      "17.269388197455342\n",
      "17.269388197455342\n",
      "17.269388197455342\n",
      "17.269388197455342\n",
      "17.269388197455342\n"
     ]
    }
   ],
   "source": [
    "W = np.random.rand(2,1)\n",
    "b = np.random.rand()\n",
    "for i in range(100):\n",
    "    #forward Pass\n",
    "    Z = np.dot(W.T,X) + b\n",
    "    A = sigmoid(Z)\n",
    "    A = np.where(A < 0.5,1,0)\n",
    "    A = A.squeeze()\n",
    "    #Backward Pass\n",
    "    J = log_loss(Y,A)\n",
    "    dz = A - Y\n",
    "    dz = np.expand_dims(dz,axis = 0 )\n",
    "    dw = np.dot(X,dz.T)/4\n",
    "    db = np.sum(dz,axis = 1 )/4\n",
    "    W = W - alpha * dw\n",
    "    b = b - alpha * db\n",
    "    print(J)\n"
   ]
  },
  {
   "cell_type": "code",
   "execution_count": 96,
   "id": "00e8e10b",
   "metadata": {},
   "outputs": [
    {
     "data": {
      "text/plain": [
       "array([0, 0, 0, 0])"
      ]
     },
     "execution_count": 96,
     "metadata": {},
     "output_type": "execute_result"
    }
   ],
   "source": [
    "A"
   ]
  },
  {
   "cell_type": "code",
   "execution_count": null,
   "id": "77ca8363",
   "metadata": {},
   "outputs": [],
   "source": []
  },
  {
   "cell_type": "markdown",
   "id": "3c8a42c1-c399-4682-bb3f-7674319e3313",
   "metadata": {},
   "source": [
    "### **TASK 2**\n",
    "1. Import the diabetes dataset. You can find data description in the description file.\n",
    "2. Use pandas plots to have a look and feel of the different attributes of the data.\n",
    "3. Apply perceptron algorithm to model the data distribution.\n",
    "4. Use mean squared error as your cost/ error function.\n",
    "5. Use the below given derivatives to find gradients of each W.\n",
    "\n",
    "![MSE](./MSE.png \"MSE\")\n",
    "\n",
    "![MSE derivative](./derivativeMSE.png \"MSE derivative\")\n"
   ]
  },
  {
   "cell_type": "code",
   "execution_count": null,
   "id": "02049a0e-1577-47b7-8bb0-f837b491b7bf",
   "metadata": {},
   "outputs": [],
   "source": []
  },
  {
   "cell_type": "code",
   "execution_count": null,
   "id": "ac7b1298",
   "metadata": {},
   "outputs": [],
   "source": []
  }
 ],
 "metadata": {
  "kernelspec": {
   "display_name": "Python 3 (ipykernel)",
   "language": "python",
   "name": "python3"
  },
  "language_info": {
   "codemirror_mode": {
    "name": "ipython",
    "version": 3
   },
   "file_extension": ".py",
   "mimetype": "text/x-python",
   "name": "python",
   "nbconvert_exporter": "python",
   "pygments_lexer": "ipython3",
   "version": "3.9.7"
  }
 },
 "nbformat": 4,
 "nbformat_minor": 5
}
