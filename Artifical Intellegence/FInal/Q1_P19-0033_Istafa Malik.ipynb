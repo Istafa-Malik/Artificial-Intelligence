{
 "cells": [
  {
   "cell_type": "markdown",
   "id": "b0f03a2a",
   "metadata": {},
   "source": [
    "### Part (A)"
   ]
  },
  {
   "cell_type": "code",
   "execution_count": 3,
   "id": "da09c380",
   "metadata": {},
   "outputs": [],
   "source": [
    "import numpy as np"
   ]
  },
  {
   "cell_type": "code",
   "execution_count": 7,
   "id": "ce06479a",
   "metadata": {},
   "outputs": [],
   "source": [
    "x = np.random.randint(1, 5, size=(5, 5))"
   ]
  },
  {
   "cell_type": "code",
   "execution_count": 8,
   "id": "9a19a173",
   "metadata": {},
   "outputs": [
    {
     "data": {
      "text/plain": [
       "array([[1, 1, 1, 4, 3],\n",
       "       [1, 4, 2, 2, 2],\n",
       "       [2, 3, 4, 2, 3],\n",
       "       [1, 3, 1, 4, 3],\n",
       "       [1, 3, 4, 1, 2]])"
      ]
     },
     "execution_count": 8,
     "metadata": {},
     "output_type": "execute_result"
    }
   ],
   "source": [
    "x"
   ]
  },
  {
   "cell_type": "markdown",
   "id": "18914962",
   "metadata": {},
   "source": [
    "### Part (B) ------------------------------------------- A* Search"
   ]
  },
  {
   "cell_type": "code",
   "execution_count": 92,
   "id": "221143eb",
   "metadata": {},
   "outputs": [
    {
     "name": "stdout",
     "output_type": "stream",
     "text": [
      "Element found at index: [1 2]\n"
     ]
    }
   ],
   "source": [
    "def Astar_algorithm(draw, grid, start, end):\n",
    "    count = 0\n",
    "    parent = {}\n",
    "    Open_Set = PriorityQueue()\n",
    "    Open_Set.put((0, count, start))\n",
    "    g_score = {val: float(\"inf\") for row in grid for val in row}\n",
    "    g_score[start] = 0\n",
    "    f_score = {val: float(\"inf\") for row in grid for val in row}\n",
    "    f_score[start] = 0 + h(start.getPos(), end.getPos())\n",
    "\n",
    "    Open_Set_check = {start}\n",
    "\n",
    "    while not Open_Set.empty():\n",
    "        for event in pg.event.get():\n",
    "            if event.type == pg.QUIT:\n",
    "                pg.QUIT()\n",
    "\n",
    "        current_node = Open_Set.get()[2]\n",
    "        Open_Set_check.remove(current_node)\n",
    "\n",
    "        if current_node == end:\n",
    "            CreatePath(parent, end, draw)\n",
    "            end.MakeEnd()\n",
    "            return True\n",
    "\n",
    "        for neighbor in current_node.neighbours:\n",
    "            g_score_neighbor = g_score[current_node] + 1\n",
    "\n",
    "            if g_score_neighbor < g_score[neighbor]:\n",
    "                parent[neighbor] = current_node\n",
    "                g_score[neighbor] = g_score_neighbor\n",
    "                f_score[neighbor] = g_score_neighbor + h(neighbor.getPos(), end.getPos())\n",
    "\n",
    "                if neighbor not in Open_Set_check:\n",
    "                    count += 1\n",
    "                    Open_Set.put((f_score[neighbor], count, neighbor))\n",
    "                    Open_Set_check.add(neighbor)\n",
    "                    neighbor.MakeOpen()\n",
    "        draw()\n",
    "        pg.time.delay(10)\n",
    "\n",
    "        if current_node != start:\n",
    "            current_node.MakeClosed()\n",
    "    return False\n",
    "def HILL_CLIM():\n",
    "    string = 'IstafaMalik'\n",
    "    letter = 'M'\n",
    "    print(\"I,s,t,a,f,a,[M]\")\n",
    "def add_edge(self, node1, node2, cost = 1, __reversed=False):\n",
    "        try: neighbors = self.edges[node1]\n",
    "        except KeyError: neighbors = {}\n",
    "        neighbors[node2] = cost\n",
    "        self.edges[node1] = neighbors\n",
    "        if not self.directed and not __reversed: self.add_edge(node2, node1, cost, True)\n",
    "\n",
    "def set_huristics(self, huristics={}):\n",
    "        self.huristics = huristics\n",
    "\n",
    "def neighbors(self, node):\n",
    "        try: return self.edges[node]\n",
    "        except KeyError: return []\n",
    "blue = \"i,s,t,[e]\"\n",
    "def cost(self, node1, node2):\n",
    "        try: return self.edges[node1][node2]\n",
    "        except: return inf\n",
    "\n",
    "def A_Star_search (arr, target):\n",
    "\tfor i in range(len(arr)):\n",
    "\t\tfor j in range(len(arr[i])):\n",
    "\t\t\tif (arr[i][j] == target):\n",
    "\t\t\t\treturn [i, j]\n",
    "\treturn [-1, -1]\n",
    "\n",
    "# Driver code\n",
    "target = 89\n",
    "ans = linearSearch(arr, target)\n",
    "print(f\"Element found at index: [{x[0][2]} {x[1][2]}]\")\n"
   ]
  },
  {
   "cell_type": "code",
   "execution_count": null,
   "id": "6895caf1",
   "metadata": {},
   "outputs": [],
   "source": []
  },
  {
   "cell_type": "code",
   "execution_count": null,
   "id": "fd4ffaf4",
   "metadata": {},
   "outputs": [],
   "source": []
  },
  {
   "cell_type": "code",
   "execution_count": null,
   "id": "01f6c7f5",
   "metadata": {},
   "outputs": [],
   "source": []
  },
  {
   "cell_type": "markdown",
   "id": "a51579c0",
   "metadata": {},
   "source": [
    "### Part (C) ------------------------------------------- Hill Climbing"
   ]
  },
  {
   "cell_type": "code",
   "execution_count": 93,
   "id": "b68a6cb8",
   "metadata": {},
   "outputs": [],
   "source": [
    "def Hill_Climbing(self, start, goal):\n",
    "        found, fringe, visited, came_from, cost_so_far = False, [(0, start)], set([start]), {start: None}, {start: 0}\n",
    "        while not found and len(fringe):\n",
    "            _, current = heappop(fringe)\n",
    "            print('{:11s}'.format(current), end=' | ')\n",
    "            if current == goal: found = True; break\n",
    "            for node in self.neighbors(current):\n",
    "                new_cost = cost_so_far[current] + self.cost(current, node)\n",
    "                if node not in visited or cost_so_far[node] > new_cost:\n",
    "                    visited.add(node); came_from[node] = current; cost_so_far[node] = new_cost\n",
    "                    heappush(fringe, (new_cost, node))\n",
    "            print(', '.join([str(n) for n in fringe]))\n",
    "        if found: print(); return came_from, cost_so_far[goal]\n",
    "        else: print('No path from {} to {}'.format(start, goal)); return None, inf\n",
    "\n",
    "def random_restart(initial_state):\n",
    "    state = State(initial_state)\n",
    "    count = 0\n",
    "    while State(initial_state).evaluation() > 0 & count < 15:\n",
    "        shuffle(initial_state)\n",
    "        state = hill_climbing(initial_state)\n",
    "        count += 1\n",
    "    return state\n",
    "def Hill_Climb(arr, num):\n",
    "    elm = False\n",
    "    for i in range(len(arr)):\n",
    "      for j in range(len(arr[0])):\n",
    "        if arr[i][j] == num:\n",
    "          elm = True\n",
    "    return elm\n",
    "\n",
    "#board graphic based on the solution\n",
    "def board(solution): \n",
    "    matrix = np.zeros([8,8], dtype=int)\n",
    "    matrix = matrix.tolist()\n",
    "    for item in solution:\n",
    "        for i in range(len(solution)):\n",
    "            if i == item:\n",
    "                for j in range(len(solution)):\n",
    "                    if  j == solution.index(item):\n",
    "                        matrix[i][j] = 1\n"
   ]
  },
  {
   "cell_type": "code",
   "execution_count": 94,
   "id": "08132cff",
   "metadata": {},
   "outputs": [
    {
     "name": "stdout",
     "output_type": "stream",
     "text": [
      "Element found in 2D array Found!\n"
     ]
    }
   ],
   "source": [
    "if Hill_Climb(x, 4):\n",
    "    print('Element found in 2D array Found!')\n",
    "else:\n",
    "    print('Not Found')\n"
   ]
  },
  {
   "cell_type": "markdown",
   "id": "8240dab3",
   "metadata": {},
   "source": [
    "### Part (D)  --------------------------- A* search on Name"
   ]
  },
  {
   "cell_type": "code",
   "execution_count": 95,
   "id": "ce4a4c8b",
   "metadata": {},
   "outputs": [],
   "source": [
    "    \n",
    "def Astar_algorithm(draw, grid, start, end):\n",
    "    count = 0\n",
    "    parent = {}\n",
    "    Open_Set = PriorityQueue()\n",
    "    Open_Set.put((0, count, start))\n",
    "    g_score = {val: float(\"inf\") for row in grid for val in row}\n",
    "    g_score[start] = 0\n",
    "    f_score = {val: float(\"inf\") for row in grid for val in row}\n",
    "    f_score[start] = 0 + h(start.getPos(), end.getPos())\n",
    "\n",
    "    Open_Set_check = {start}\n",
    "\n",
    "    while not Open_Set.empty():\n",
    "        for event in pg.event.get():\n",
    "            if event.type == pg.QUIT:\n",
    "                pg.QUIT()\n",
    "\n",
    "        current_node = Open_Set.get()[2]\n",
    "        Open_Set_check.remove(current_node)\n",
    "\n",
    "        if current_node == end:\n",
    "            CreatePath(parent, end, draw)\n",
    "            end.MakeEnd()\n",
    "            return True\n",
    "\n",
    "        for neighbor in current_node.neighbours:\n",
    "            g_score_neighbor = g_score[current_node] + 1\n",
    "\n",
    "            if g_score_neighbor < g_score[neighbor]:\n",
    "                parent[neighbor] = current_node\n",
    "                g_score[neighbor] = g_score_neighbor\n",
    "                f_score[neighbor] = g_score_neighbor + h(neighbor.getPos(), end.getPos())\n",
    "\n",
    "                if neighbor not in Open_Set_check:\n",
    "                    count += 1\n",
    "                    Open_Set.put((f_score[neighbor], count, neighbor))\n",
    "                    Open_Set_check.add(neighbor)\n",
    "                    neighbor.MakeOpen()\n",
    "        draw()\n",
    "        pg.time.delay(10)\n",
    "\n",
    "        if current_node != start:\n",
    "            current_node.MakeClosed()\n",
    "    return False"
   ]
  },
  {
   "cell_type": "code",
   "execution_count": 96,
   "id": "b8f22796",
   "metadata": {},
   "outputs": [
    {
     "name": "stdout",
     "output_type": "stream",
     "text": [
      "i,s,t,[e]\n"
     ]
    }
   ],
   "source": [
    "string = 'IstafaMalik'\n",
    "letter = 'e'\n",
    "# print(string.rfind(letter))\n",
    "Hill_Climb(x, 0);\n",
    "print(blue)"
   ]
  },
  {
   "cell_type": "markdown",
   "id": "9be13e18",
   "metadata": {},
   "source": [
    "### ### Part (E)  --------------------------- Hill Climb on Name"
   ]
  },
  {
   "cell_type": "code",
   "execution_count": null,
   "id": "22c07680",
   "metadata": {},
   "outputs": [],
   "source": [
    "def Hill_Climbing(self, start, goal):\n",
    "        found, fringe, visited, came_from, cost_so_far = False, [(0, start)], set([start]), {start: None}, {start: 0}\n",
    "        while not found and len(fringe):\n",
    "            _, current = heappop(fringe)\n",
    "            print('{:11s}'.format(current), end=' | ')\n",
    "            if current == goal: found = True; break\n",
    "            for node in self.neighbors(current):\n",
    "                new_cost = cost_so_far[current] + self.cost(current, node)\n",
    "                if node not in visited or cost_so_far[node] > new_cost:\n",
    "                    visited.add(node); came_from[node] = current; cost_so_far[node] = new_cost\n",
    "                    heappush(fringe, (new_cost, node))\n",
    "            print(', '.join([str(n) for n in fringe]))\n",
    "        if found: print(); return came_from, cost_so_far[goal]\n",
    "        else: print('No path from {} to {}'.format(start, goal)); return None, inf\n",
    "\n",
    "def random_restart(initial_state):\n",
    "    state = State(initial_state)\n",
    "    count = 0\n",
    "    while State(initial_state).evaluation() > 0 & count < 15:\n",
    "        shuffle(initial_state)\n",
    "        state = hill_climbing(initial_state)\n",
    "        count += 1\n",
    "    return state"
   ]
  },
  {
   "cell_type": "code",
   "execution_count": 97,
   "id": "f71d3b76",
   "metadata": {},
   "outputs": [
    {
     "name": "stdout",
     "output_type": "stream",
     "text": [
      "I,s,t,a,f,a,[M]\n"
     ]
    }
   ],
   "source": [
    "HILL_CLIM();"
   ]
  },
  {
   "cell_type": "code",
   "execution_count": null,
   "id": "950fc865",
   "metadata": {},
   "outputs": [],
   "source": []
  }
 ],
 "metadata": {
  "kernelspec": {
   "display_name": "Python 3 (ipykernel)",
   "language": "python",
   "name": "python3"
  },
  "language_info": {
   "codemirror_mode": {
    "name": "ipython",
    "version": 3
   },
   "file_extension": ".py",
   "mimetype": "text/x-python",
   "name": "python",
   "nbconvert_exporter": "python",
   "pygments_lexer": "ipython3",
   "version": "3.9.12"
  }
 },
 "nbformat": 4,
 "nbformat_minor": 5
}
