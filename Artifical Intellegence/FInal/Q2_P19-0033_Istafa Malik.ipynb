{
 "cells": [
  {
   "cell_type": "markdown",
   "id": "29ba5944",
   "metadata": {},
   "source": [
    "# Q#2"
   ]
  },
  {
   "cell_type": "markdown",
   "id": "9940c8db",
   "metadata": {},
   "source": [
    "Output \n",
    "Shortest Depth:  4"
   ]
  },
  {
   "cell_type": "code",
   "execution_count": 20,
   "id": "81d6c73f",
   "metadata": {},
   "outputs": [],
   "source": [
    "class Node:\n",
    "    def __init__(self, val=None):\n",
    "        self.val = val\n",
    "        self.left = None\n",
    "        self.right = None\n",
    " \n",
    " \n",
    "def get_root():\n",
    "    values = iter([2, 8, 6, 9, None, None, 11, 10, None, None,\n",
    "              12, None, None, 7, None, None, 4, 5, None, None, 13, None, None])\n",
    "    \n",
    "\n",
    " \n",
    "    def tree_recur(itr):\n",
    "        val = next(itr)\n",
    "        if val is not None:\n",
    "            node = Node(val)\n",
    "            node.left = tree_recur(itr)\n",
    "            node.right = tree_recur(itr)\n",
    "            return node\n",
    " \n",
    "    return tree_recur(values)\n",
    "\n",
    "g = Graph (7);\n",
    "g.addEdge(0, 'O')\n",
    "g.addEdge(0, 'A')\n",
    "g.addEdge(1, 'F')\n",
    "g.addEdge(1, 'B')\n",
    "g.addEdge(2, 'D')\n",
    "g.addEdge(2, 'T')\n",
    "g.addEdge(2, 'C')\n",
    "g.addEdge(2, 'B')"
   ]
  },
  {
   "cell_type": "code",
   "execution_count": 21,
   "id": "a8988827",
   "metadata": {},
   "outputs": [
    {
     "name": "stdout",
     "output_type": "stream",
     "text": [
      "\n",
      "Shortest Depth:  4\n"
     ]
    }
   ],
   "source": [
    "def dfids():\n",
    "    root = get_root()\n",
    "    res = float(\"inf\")\n",
    " \n",
    "    def dfids_search(node, depth, limit):\n",
    "        if depth <= limit and node is not None:\n",
    "            val = node.val\n",
    "            if val == 12:\n",
    "                nonlocal res\n",
    "                res = min(res, depth)\n",
    "            else:\n",
    "                dfids_search(node.left, depth + 1, limit)\n",
    "                dfids_search(node.right, depth + 1, limit)\n",
    " \n",
    "    for limit in range(1,5):\n",
    "        dfids_search(root, 0, limit)\n",
    "        if res < float(\"inf\"):\n",
    "            return res\n",
    "    return -1\n",
    " \n",
    "if __name__ == \"__main__\":\n",
    "   print(\"\\nShortest Depth: \", dfids())\n"
   ]
  },
  {
   "cell_type": "code",
   "execution_count": null,
   "id": "aaa6e2f1",
   "metadata": {},
   "outputs": [],
   "source": []
  }
 ],
 "metadata": {
  "kernelspec": {
   "display_name": "Python 3 (ipykernel)",
   "language": "python",
   "name": "python3"
  },
  "language_info": {
   "codemirror_mode": {
    "name": "ipython",
    "version": 3
   },
   "file_extension": ".py",
   "mimetype": "text/x-python",
   "name": "python",
   "nbconvert_exporter": "python",
   "pygments_lexer": "ipython3",
   "version": "3.9.12"
  }
 },
 "nbformat": 4,
 "nbformat_minor": 5
}
