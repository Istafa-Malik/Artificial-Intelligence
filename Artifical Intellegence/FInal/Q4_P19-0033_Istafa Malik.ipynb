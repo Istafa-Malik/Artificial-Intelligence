{
 "cells": [
  {
   "cell_type": "code",
   "execution_count": 1,
   "id": "f71575b1",
   "metadata": {},
   "outputs": [],
   "source": [
    "# Imports \n",
    "import numpy as np\n",
    "import random\n",
    "\n",
    "from datetime import datetime"
   ]
  },
  {
   "cell_type": "code",
   "execution_count": 2,
   "id": "f3215508",
   "metadata": {},
   "outputs": [],
   "source": [
    "# Parameters\n",
    "n_cities = 20\n",
    "\n",
    "n_population = 100\n",
    "\n",
    "mutation_rate = 0.3"
   ]
  },
  {
   "cell_type": "code",
   "execution_count": 22,
   "id": "f57cd546",
   "metadata": {},
   "outputs": [
    {
     "data": {
      "text/plain": [
       "{'A': [26, 36],\n",
       " 'B': [44, 65],\n",
       " 'C': [67, 57],\n",
       " 'D': [42, 7],\n",
       " 'E': [72, 80],\n",
       " 'F': [19, 40],\n",
       " 'G': [86, 79],\n",
       " 'H': [81, 42],\n",
       " 'I': [1, 71],\n",
       " 'J': [87, 82],\n",
       " 'K': [37, 78],\n",
       " 'L': [11, 63],\n",
       " 'M': [84, 19],\n",
       " 'N': [2, 47],\n",
       " 'O': [79, 78],\n",
       " 'P': [51, 60],\n",
       " 'Q': [84, 68],\n",
       " 'R': [72, 64],\n",
       " 'S': [67, 47],\n",
       " 'T': [57, 86]}"
      ]
     },
     "execution_count": 22,
     "metadata": {},
     "output_type": "execute_result"
    }
   ],
   "source": [
    "# Generating a list of coordenades representing each city\n",
    "coordinates_list = [[x,y] for x,y in zip(np.random.randint(0,100,n_cities),np.random.randint(0,100,n_cities))]\n",
    "names_list = np.array(['A', 'B', 'C', 'D', 'E', 'F', 'G', 'H', 'I', 'J', 'K', 'L', 'M', 'N', 'O', 'P', 'Q', 'R', 'S', 'T'])\n",
    "cities_dict = { x:y for x,y in zip(names_list,coordinates_list)}\n",
    "\n",
    "# Function to compute the distance between two points\n",
    "def compute_city_distance_coordinates(a,b):\n",
    "    return ((a[0]-b[0])**2+(a[1]-b[1])**2)**0.5\n",
    "\n",
    "def compute_city_distance_names(city_a, city_b, cities_dict):\n",
    "    return compute_city_distance_coordinates(cities_dict[city_a], cities_dict[city_b])\n",
    "\n",
    "cities_dict"
   ]
  },
  {
   "cell_type": "code",
   "execution_count": 23,
   "id": "2003ba75",
   "metadata": {},
   "outputs": [
    {
     "data": {
      "text/plain": [
       "array([['Q', 'S', 'H', ..., 'L', 'F', 'K'],\n",
       "       ['I', 'N', 'J', ..., 'C', 'A', 'H'],\n",
       "       ['E', 'P', 'D', ..., 'Q', 'J', 'A'],\n",
       "       ...,\n",
       "       ['N', 'C', 'I', ..., 'Q', 'S', 'H'],\n",
       "       ['S', 'C', 'J', ..., 'K', 'T', 'A'],\n",
       "       ['K', 'A', 'R', ..., 'E', 'C', 'P']], dtype='<U1')"
      ]
     },
     "execution_count": 23,
     "metadata": {},
     "output_type": "execute_result"
    }
   ],
   "source": [
    "# A. Initialize Population\n",
    "def genesis(city_list, n_population):\n",
    "\n",
    "    population_set = []\n",
    "    for i in range(n_population):\n",
    "        #Randomly generating a new solution\n",
    "        sol_i = city_list[np.random.choice(list(range(n_cities)), n_cities, replace=False)]\n",
    "        population_set.append(sol_i)\n",
    "    return np.array(population_set)\n",
    "\n",
    "population_set = genesis(names_list, n_population)\n",
    "population_set"
   ]
  },
  {
   "cell_type": "code",
   "execution_count": 24,
   "id": "3d4e3a71",
   "metadata": {},
   "outputs": [
    {
     "data": {
      "text/plain": [
       "array([['T', 'A', 'Q', ..., 'D', 'I', 'R'],\n",
       "       ['L', 'M', 'O', ..., 'P', 'T', 'G'],\n",
       "       ['F', 'S', 'P', ..., 'A', 'O', 'B'],\n",
       "       ...,\n",
       "       ['O', 'K', 'F', ..., 'A', 'N', 'M'],\n",
       "       ['B', 'L', 'M', ..., 'J', 'G', 'D'],\n",
       "       ['C', 'D', 'E', ..., 'J', 'R', 'N']], dtype='<U1')"
      ]
     },
     "execution_count": 24,
     "metadata": {},
     "output_type": "execute_result"
    }
   ],
   "source": [
    "# A. Initialize Population\n",
    "def genesis(city_list, n_population):\n",
    "\n",
    "    population_set = []\n",
    "    for i in range(n_population):\n",
    "        #Randomly generating a new solution\n",
    "        sol_i = city_list[np.random.choice(list(range(n_cities)), n_cities, replace=False)]\n",
    "        population_set.append(sol_i)\n",
    "    return np.array(population_set)\n",
    "\n",
    "population_set = genesis(names_list, n_population)\n",
    "population_set"
   ]
  },
  {
   "cell_type": "code",
   "execution_count": 9,
   "id": "f09c8602",
   "metadata": {},
   "outputs": [],
   "source": [
    "def fitness_eval(city_list, cities_dict):\n",
    "    total = 0\n",
    "    for i in range(n_cities-1):\n",
    "        a = city_list[i]\n",
    "        b = city_list[i+1]\n",
    "        total += compute_city_distance_names(a,b, cities_dict)\n",
    "    return total"
   ]
  },
  {
   "cell_type": "code",
   "execution_count": 10,
   "id": "72adf1b3",
   "metadata": {},
   "outputs": [
    {
     "data": {
      "text/plain": [
       "array([1033.78596076,  889.11674794, 1017.9794602 ,  965.98267892,\n",
       "        805.12224186,  944.70284885, 1144.06034794,  990.62783396,\n",
       "       1104.81688137,  827.26365885, 1051.39121527,  855.96147402,\n",
       "       1037.41260103,  950.30202571,  960.52879961, 1068.48280173,\n",
       "       1004.81004591, 1096.81890572, 1020.97365163, 1051.86603565,\n",
       "        979.32855703,  705.30341566, 1021.18563464,  855.01501893,\n",
       "        980.81958028, 1046.28423525, 1009.42751539, 1061.59155753,\n",
       "        844.42566627,  825.98950542, 1049.11622563,  893.42047853,\n",
       "       1193.97021871, 1052.61928815, 1022.79032331,  980.03672347,\n",
       "       1005.87944663, 1094.72803888,  858.94090755,  993.0279385 ,\n",
       "       1097.64430467, 1111.36099465, 1060.60471898, 1088.9053207 ,\n",
       "       1058.73157284, 1059.16752053,  988.19607685, 1110.48501636,\n",
       "       1070.65457083,  898.07194905,  979.85721655,  881.21901642,\n",
       "       1144.50341139,  937.31680902,  910.8037037 ,  977.65215195,\n",
       "       1020.60274469, 1032.96210682, 1066.6287066 , 1104.45042863,\n",
       "        917.1531343 ,  992.43898307, 1081.51508742, 1142.48536382,\n",
       "       1006.33448157, 1064.13276374,  889.06673796,  868.34299708,\n",
       "       1029.92801056, 1094.07443471,  999.93666431,  995.30613166,\n",
       "       1067.01633665,  912.72448686, 1156.92811726, 1009.32056736,\n",
       "       1045.91694664, 1032.96512278, 1004.50969524, 1005.396111  ,\n",
       "       1048.33366788, 1038.96825958, 1015.86641305, 1124.66967005,\n",
       "        836.63056405,  967.16831773,  971.9248041 ,  968.23532615,\n",
       "       1148.28897308,  940.70822901, 1037.96116499,  912.42950247,\n",
       "        916.27343576, 1048.60364589,  996.28517297, 1067.63366915,\n",
       "       1024.56020582,  980.39238522,  862.37260805,  977.56147498])"
      ]
     },
     "execution_count": 10,
     "metadata": {},
     "output_type": "execute_result"
    }
   ],
   "source": [
    "def get_all_fitnes(population_set, cities_dict):\n",
    "    fitnes_list = np.zeros(n_population)\n",
    "\n",
    "    #Looping over all solutions computing the fitness for each solution\n",
    "    for i in  range(n_population):\n",
    "        fitnes_list[i] = fitness_eval(population_set[i], cities_dict)\n",
    "\n",
    "    return fitnes_list\n",
    "\n",
    "fitnes_list = get_all_fitnes(population_set,cities_dict)\n",
    "fitnes_list"
   ]
  },
  {
   "cell_type": "code",
   "execution_count": 11,
   "id": "2d8bc210",
   "metadata": {},
   "outputs": [
    {
     "data": {
      "text/plain": [
       "array(['Bucharest', 'Rome', 'Birmingham', 'Brussels', 'Barcelona',\n",
       "       'London', 'Berlin', 'Amsterdam', 'Sofia', 'Paris', 'Munich',\n",
       "       'Moscow', 'Prague', 'Kyiv', 'Minsk', 'Istanbul', 'Milan', 'Warsaw',\n",
       "       'Budapest', 'Vienna'], dtype='<U10')"
      ]
     },
     "execution_count": 11,
     "metadata": {},
     "output_type": "execute_result"
    }
   ],
   "source": [
    "def progenitor_selection(population_set,fitnes_list):\n",
    "    total_fit = fitnes_list.sum()\n",
    "    prob_list = fitnes_list/total_fit\n",
    "    \n",
    "    #Notice there is the chance that a progenitor. mates with oneself\n",
    "    progenitor_list_a = np.random.choice(list(range(len(population_set))), len(population_set),p=prob_list, replace=True)\n",
    "    progenitor_list_b = np.random.choice(list(range(len(population_set))), len(population_set),p=prob_list, replace=True)\n",
    "    \n",
    "    progenitor_list_a = population_set[progenitor_list_a]\n",
    "    progenitor_list_b = population_set[progenitor_list_b]\n",
    "    \n",
    "    \n",
    "    return np.array([progenitor_list_a,progenitor_list_b])\n",
    "\n",
    "\n",
    "progenitor_list = progenitor_selection(population_set,fitnes_list)\n",
    "progenitor_list[0][2]"
   ]
  },
  {
   "cell_type": "code",
   "execution_count": 18,
   "id": "65cb7a16",
   "metadata": {},
   "outputs": [
    {
     "ename": "SyntaxError",
     "evalue": "invalid syntax (2104879044.py, line 1)",
     "output_type": "error",
     "traceback": [
      "\u001b[1;36m  File \u001b[1;32m\"C:\\Users\\faiqa\\AppData\\Local\\Temp\\ipykernel_12456\\2104879044.py\"\u001b[1;36m, line \u001b[1;32m1\u001b[0m\n\u001b[1;33m    2. Crossover set\u001b[0m\n\u001b[1;37m       ^\u001b[0m\n\u001b[1;31mSyntaxError\u001b[0m\u001b[1;31m:\u001b[0m invalid syntax\n"
     ]
    }
   ],
   "source": []
  },
  {
   "cell_type": "code",
   "execution_count": 12,
   "id": "c02b2bc0",
   "metadata": {},
   "outputs": [],
   "source": [
    "        # B. Cross Over\n",
    "def mate_progenitors(prog_a, prog_b):\n",
    "    offspring = prog_a[0:5]\n",
    "\n",
    "    for city in prog_b:\n",
    "\n",
    "        if not city in offspring:\n",
    "            offspring = np.concatenate((offspring,[city]))\n",
    "\n",
    "    return offspring\n",
    "            "
   ]
  },
  {
   "cell_type": "code",
   "execution_count": 13,
   "id": "89ef0624",
   "metadata": {},
   "outputs": [
    {
     "data": {
      "text/plain": [
       "array(['Warsaw', 'Rome', 'Bucharest', 'Kyiv', 'Vienna', 'Prague',\n",
       "       'London', 'Budapest', 'Amsterdam', 'Birmingham', 'Sofia', 'Berlin',\n",
       "       'Moscow', 'Barcelona', 'Istanbul', 'Minsk', 'Paris', 'Brussels',\n",
       "       'Munich', 'Milan'], dtype='<U10')"
      ]
     },
     "execution_count": 13,
     "metadata": {},
     "output_type": "execute_result"
    }
   ],
   "source": [
    "def mate_population(progenitor_list):\n",
    "    new_population_set = []\n",
    "    for i in range(progenitor_list.shape[1]):\n",
    "        prog_a, prog_b = progenitor_list[0][i], progenitor_list[1][i]\n",
    "        offspring = mate_progenitors(prog_a, prog_b)\n",
    "        new_population_set.append(offspring)\n",
    "        \n",
    "    return new_population_set\n",
    "\n",
    "new_population_set = mate_population(progenitor_list)\n",
    "new_population_set[0]"
   ]
  },
  {
   "cell_type": "code",
   "execution_count": 14,
   "id": "18048392",
   "metadata": {},
   "outputs": [],
   "source": [
    "#B. Mutation\n",
    "def mutate_offspring(offspring):\n",
    "    for q in range(int(n_cities*mutation_rate)):\n",
    "        a = np.random.randint(0,n_cities)\n",
    "        b = np.random.randint(0,n_cities)\n",
    "\n",
    "        offspring[a], offspring[b] = offspring[b], offspring[a]\n",
    "\n",
    "    return offspring"
   ]
  },
  {
   "cell_type": "code",
   "execution_count": 15,
   "id": "8c3749cd",
   "metadata": {},
   "outputs": [
    {
     "data": {
      "text/plain": [
       "array(['Milan', 'Warsaw', 'Bucharest', 'Kyiv', 'Prague', 'Istanbul',\n",
       "       'London', 'Budapest', 'Amsterdam', 'Birmingham', 'Sofia', 'Berlin',\n",
       "       'Moscow', 'Barcelona', 'Vienna', 'Minsk', 'Paris', 'Brussels',\n",
       "       'Munich', 'Rome'], dtype='<U10')"
      ]
     },
     "execution_count": 15,
     "metadata": {},
     "output_type": "execute_result"
    }
   ],
   "source": [
    "def mutate_population(new_population_set):\n",
    "    mutated_pop = []\n",
    "    for offspring in new_population_set:\n",
    "        mutated_pop.append(mutate_offspring(offspring))\n",
    "    return mutated_pop\n",
    "\n",
    "mutated_pop = mutate_population(new_population_set)\n",
    "mutated_pop[0]"
   ]
  },
  {
   "cell_type": "code",
   "execution_count": 16,
   "id": "e93b366f",
   "metadata": {},
   "outputs": [
    {
     "name": "stdout",
     "output_type": "stream",
     "text": [
      "0 705.3034156559204 1000.9608449789997 16/12/22 15:50\n",
      "100 817.4017537999583 997.6550630809611 16/12/22 15:50\n",
      "200 784.2030397756371 989.1687770591471 16/12/22 15:50\n",
      "300 784.5928239102002 1000.9996894925706 16/12/22 15:50\n",
      "400 814.2783201159269 1008.7289335231436 16/12/22 15:50\n",
      "500 727.0477058300607 998.965514738473 16/12/22 15:50\n",
      "600 768.759566309975 1001.6900228029862 16/12/22 15:50\n",
      "700 799.5521127074036 1000.843285097649 16/12/22 15:50\n",
      "800 807.3722155394368 1005.1195765621707 16/12/22 15:50\n",
      "900 786.6162317185652 993.5901730691885 16/12/22 15:50\n",
      "1000 771.7035064752579 1002.5690007713181 16/12/22 15:50\n",
      "1100 783.0549243852338 1002.6542612541477 16/12/22 15:50\n",
      "1200 747.9431245401197 988.5678459787881 16/12/22 15:50\n",
      "1300 729.9387862270895 992.4576312978429 16/12/22 15:50\n",
      "1400 734.905319477473 1004.5775599322483 16/12/22 15:51\n",
      "1500 837.0792591696313 1002.4950006519651 16/12/22 15:51\n",
      "1600 744.6730958686347 995.4025923997414 16/12/22 15:51\n",
      "1700 724.9114925217184 1011.4080630405218 16/12/22 15:51\n",
      "1800 727.117490825307 1004.6427794384275 16/12/22 15:51\n",
      "1900 774.4824874435818 997.4061453030939 16/12/22 15:51\n",
      "2000 700.1052253409416 997.8122727172656 16/12/22 15:51\n",
      "2100 826.9999805163148 1008.8753849342787 16/12/22 15:51\n",
      "2200 808.723790569159 1006.8599684184055 16/12/22 15:51\n",
      "2300 764.8216315673686 998.5449865866753 16/12/22 15:51\n",
      "2400 799.5735194379401 1012.7873099681348 16/12/22 15:51\n",
      "2500 780.2407018933887 991.0502206671708 16/12/22 15:51\n",
      "2600 779.1850492732764 1001.1037416035456 16/12/22 15:51\n",
      "2700 786.8969204305164 990.4747097150902 16/12/22 15:51\n",
      "2800 680.8600990054615 989.5657525966911 16/12/22 15:51\n",
      "2900 768.7807608080557 994.1771105159168 16/12/22 15:51\n",
      "3000 720.1155359311476 989.440039830687 16/12/22 15:51\n",
      "3100 830.6560397709128 1002.6563492739334 16/12/22 15:52\n",
      "3200 723.5914073146785 973.3753075705458 16/12/22 15:52\n",
      "3300 747.6770223863349 996.9589854757769 16/12/22 15:52\n",
      "3400 751.1832012453059 985.5826323352005 16/12/22 15:52\n",
      "3500 698.8537005422937 1000.0316094839102 16/12/22 15:52\n",
      "3600 824.7209097876985 982.8735228687968 16/12/22 15:52\n",
      "3700 771.1896159420112 1002.1450877659568 16/12/22 15:52\n",
      "3800 800.7162929520699 1005.2171053336633 16/12/22 15:52\n",
      "3900 752.2266458955951 999.7501277623206 16/12/22 15:52\n",
      "4000 779.9026560236376 1001.6473974419118 16/12/22 15:52\n",
      "4100 758.752204890756 990.1567501495322 16/12/22 15:52\n",
      "4200 799.5110075255507 1006.4107124032327 16/12/22 15:52\n",
      "4300 681.3564139443538 986.7470710918548 16/12/22 15:52\n",
      "4400 807.7828191209993 999.3342761098085 16/12/22 15:52\n",
      "4500 823.4898209479624 1005.5699210506832 16/12/22 15:52\n",
      "4600 830.0297805604707 1002.6607298483228 16/12/22 15:52\n",
      "4700 760.2505568378772 1002.495726545954 16/12/22 15:52\n",
      "4800 778.928722623544 1007.2813548313175 16/12/22 15:53\n",
      "4900 798.1237303978066 1007.0582301126187 16/12/22 15:53\n",
      "5000 735.0287434444182 988.8750345555045 16/12/22 15:53\n",
      "5100 798.2883528132251 999.8180272930155 16/12/22 15:53\n",
      "5200 721.262893238763 994.8402199858721 16/12/22 15:53\n",
      "5300 769.5768911516348 998.6424236776951 16/12/22 15:53\n",
      "5400 702.8985489296745 996.9127067864979 16/12/22 15:53\n",
      "5500 755.2403537511497 997.2665576096558 16/12/22 15:53\n",
      "5600 803.9019267365861 1009.1364960157292 16/12/22 15:53\n",
      "5700 750.8379804225556 1004.4559976343518 16/12/22 15:53\n",
      "5800 792.5041965895937 996.1330992084967 16/12/22 15:53\n",
      "5900 785.3325968885568 1011.1219077831753 16/12/22 15:53\n",
      "6000 773.5743486669077 1003.7910176642905 16/12/22 15:53\n",
      "6100 817.509939528284 992.8506257372975 16/12/22 15:53\n",
      "6200 745.6676560710238 992.2271213337752 16/12/22 15:53\n",
      "6300 795.1397097000881 1002.2646686780322 16/12/22 15:54\n",
      "6400 704.589985148593 991.2308893364185 16/12/22 15:54\n",
      "6500 810.2859854229897 1001.344963693208 16/12/22 15:54\n",
      "6600 755.0054183918128 1015.1374432745381 16/12/22 15:54\n",
      "6700 804.6822219748406 1009.1918159166282 16/12/22 15:54\n",
      "6800 735.4088547240644 1021.7207810220752 16/12/22 15:54\n",
      "6900 703.0896997013632 979.2978617115554 16/12/22 15:54\n",
      "7000 736.2076049553141 1000.2759215220016 16/12/22 15:54\n",
      "7100 697.0557141545456 993.2404772144935 16/12/22 15:54\n",
      "7200 745.983079579509 996.5902253580091 16/12/22 15:54\n",
      "7300 721.1505485277021 981.6980380045911 16/12/22 15:54\n",
      "7400 844.0734818582841 1005.5228488484041 16/12/22 15:54\n",
      "7500 777.6721817143032 988.287223561701 16/12/22 15:54\n",
      "7600 731.3527619721358 1009.0024112362097 16/12/22 15:54\n",
      "7700 798.1571402272594 995.359385495806 16/12/22 15:54\n",
      "7800 703.6969743501671 1000.9342923878263 16/12/22 15:55\n",
      "7900 721.0063452313891 1000.5935667088098 16/12/22 15:55\n",
      "8000 787.1305096084599 993.7409558876496 16/12/22 15:55\n",
      "8100 775.0937218297769 990.5546152802148 16/12/22 15:55\n",
      "8200 826.2911183904245 1011.9508945161164 16/12/22 15:55\n",
      "8300 755.8912984963923 1001.3793517446247 16/12/22 15:55\n",
      "8400 674.7910490222629 1001.0258982269489 16/12/22 15:55\n",
      "8500 828.8515017696643 989.1439584881867 16/12/22 15:55\n",
      "8600 768.0023299179418 1000.6578831526843 16/12/22 15:55\n",
      "8700 791.4495014923982 1015.5461885780251 16/12/22 15:55\n",
      "8800 707.9561038766847 986.5552000178182 16/12/22 15:55\n",
      "8900 791.7973534294019 993.9901473393348 16/12/22 15:55\n",
      "9000 778.374492923294 985.4595572672821 16/12/22 15:55\n",
      "9100 677.4443518626256 1001.7621032074891 16/12/22 15:56\n",
      "9200 752.9687730620741 1000.8423447931373 16/12/22 15:56\n",
      "9300 760.2009504143948 1001.0349559896554 16/12/22 15:56\n",
      "9400 739.1687698908346 998.3103483306581 16/12/22 15:56\n",
      "9500 771.6024208827919 986.1239779400851 16/12/22 15:56\n",
      "9600 794.8672310708401 1013.9752837104784 16/12/22 15:56\n",
      "9700 759.7112889397567 1018.3770577431834 16/12/22 15:56\n",
      "9800 739.4749213438681 986.6512953713792 16/12/22 15:56\n",
      "9900 784.5837070907694 1010.0415927687101 16/12/22 15:56\n"
     ]
    }
   ],
   "source": [
    "            #C. Best path\n",
    "best_solution = [-1,np.inf,np.array([])]\n",
    "for i in range(10000):\n",
    "    if i%100==0: print(i, fitnes_list.min(), fitnes_list.mean(), datetime.now().strftime(\"%d/%m/%y %H:%M\"))\n",
    "    fitnes_list = get_all_fitnes(mutated_pop,cities_dict)\n",
    "    \n",
    "    #Saving the best solution\n",
    "    if fitnes_list.min() < best_solution[1]:\n",
    "        best_solution[0] = i\n",
    "        best_solution[1] = fitnes_list.min()\n",
    "        best_solution[2] = np.array(mutated_pop)[fitnes_list.min() == fitnes_list]\n",
    "    \n",
    "    progenitor_list = progenitor_selection(population_set,fitnes_list)\n",
    "    new_population_set = mate_population(progenitor_list)\n",
    "    \n",
    "    mutated_pop = mutate_population(new_population_set)"
   ]
  },
  {
   "cell_type": "code",
   "execution_count": null,
   "id": "a5154bfe",
   "metadata": {},
   "outputs": [],
   "source": [
    "best_solution"
   ]
  },
  {
   "cell_type": "code",
   "execution_count": null,
   "id": "a757451e",
   "metadata": {},
   "outputs": [],
   "source": []
  }
 ],
 "metadata": {
  "kernelspec": {
   "display_name": "Python 3 (ipykernel)",
   "language": "python",
   "name": "python3"
  },
  "language_info": {
   "codemirror_mode": {
    "name": "ipython",
    "version": 3
   },
   "file_extension": ".py",
   "mimetype": "text/x-python",
   "name": "python",
   "nbconvert_exporter": "python",
   "pygments_lexer": "ipython3",
   "version": "3.9.13"
  }
 },
 "nbformat": 4,
 "nbformat_minor": 5
}
